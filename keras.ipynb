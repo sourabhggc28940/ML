{
 "cells": [
  {
   "cell_type": "code",
   "execution_count": 46,
   "metadata": {},
   "outputs": [],
   "source": [
    "from keras.datasets import mnist\n",
    "import matplotlib.pyplot as plt"
   ]
  },
  {
   "cell_type": "code",
   "execution_count": 47,
   "metadata": {},
   "outputs": [],
   "source": [
    "(X_train, y_train), (X_test, y_test)  = mnist.load_data()"
   ]
  },
  {
   "cell_type": "code",
   "execution_count": 48,
   "metadata": {},
   "outputs": [
    {
     "data": {
      "text/plain": [
       "<matplotlib.image.AxesImage at 0x180125e3b38>"
      ]
     },
     "execution_count": 48,
     "metadata": {},
     "output_type": "execute_result"
    },
    {
     "data": {
      "image/png": "[encoded data removed]",
      "text/plain": [
       "<Figure size 432x288 with 1 Axes>"
      ]
     },
     "metadata": {},
     "output_type": "display_data"
    }
   ],
   "source": [
    "plt.plot(224)\n",
    "plt.imshow(X_train[6] ,cmap=plt.get_cmap('gray'))"
   ]
  },
  {
   "cell_type": "code",
   "execution_count": null,
   "metadata": {},
   "outputs": [],
   "source": []
  },
  {
   "cell_type": "code",
   "execution_count": 49,
   "metadata": {},
   "outputs": [],
   "source": [
    "import numpy \n",
    "from keras.datasets import mnist\n",
    "from keras.models import Sequential\n",
    "from keras.layers import Dense \n",
    "from keras.layers import Dropout\n",
    "from keras.utils import np_utils\n"
   ]
  },
  {
   "cell_type": "code",
   "execution_count": 50,
   "metadata": {},
   "outputs": [],
   "source": [
    "seed = 7 \n",
    "numpy.random.seed(seed)"
   ]
  },
  {
   "cell_type": "code",
   "execution_count": 51,
   "metadata": {},
   "outputs": [],
   "source": [
    "num_pixels = 28*28\n",
    "X_train = X_train.reshape(X_train.shape[0] , num_pixels).astype('float32')\n",
    "X_test = X_test.reshape(X_test.shape[0], num_pixels).astype('float32')"
   ]
  },
  {
   "cell_type": "code",
   "execution_count": 52,
   "metadata": {},
   "outputs": [],
   "source": [
    "X_train = X_train/255\n",
    "X_test = X_test/255"
   ]
  },
  {
   "cell_type": "code",
   "execution_count": 53,
   "metadata": {},
   "outputs": [],
   "source": [
    "y_train = np_utils.to_categorical(y_train)\n",
    "y_test = np_utils.to_categorical(y_test)\n",
    "num_classes = y_test.shape[1]"
   ]
  },
  {
   "cell_type": "code",
   "execution_count": 54,
   "metadata": {},
   "outputs": [],
   "source": [
    "def baseline_model():\n",
    "    model=Sequential()\n",
    "    model.add(Dense(num_pixels , input_dim = num_pixels ,kernel_initializer='normal',activation = 'relu'))\n",
    "    model.add(Dense(num_classes ,kernel_initializer = 'normal',activation = 'softmax'))\n",
    "    model.compile(loss ='categorical_crossentropy' , optimizer = 'adam', metrics=['accuracy']) \n",
    "    return model\n",
    "                  \n",
    "                  \n",
    "\n",
    "\n"
   ]
  },
  {
   "cell_type": "code",
   "execution_count": 55,
   "metadata": {},
   "outputs": [],
   "source": [
    "model = baseline_model()"
   ]
  },
  {
   "cell_type": "code",
   "execution_count": 57,
   "metadata": {},
   "outputs": [
    {
     "name": "stdout",
     "output_type": "stream",
     "text": [
      "Train on 60000 samples, validate on 10000 samples\n",
      "Epoch 1/15\n",
      " - 6s - loss: 0.1126 - acc: 0.9678 - val_loss: 0.1030 - val_acc: 0.9691\n",
      "Epoch 2/15\n",
      " - 6s - loss: 0.0718 - acc: 0.9790 - val_loss: 0.0781 - val_acc: 0.9771\n",
      "Epoch 3/15\n",
      " - 6s - loss: 0.0506 - acc: 0.9855 - val_loss: 0.0701 - val_acc: 0.9782\n",
      "Epoch 4/15\n",
      " - 6s - loss: 0.0368 - acc: 0.9897 - val_loss: 0.0774 - val_acc: 0.9753\n",
      "Epoch 5/15\n",
      " - 6s - loss: 0.0263 - acc: 0.9931 - val_loss: 0.0640 - val_acc: 0.9797\n",
      "Epoch 6/15\n",
      " - 7s - loss: 0.0194 - acc: 0.9951 - val_loss: 0.0594 - val_acc: 0.9820\n",
      "Epoch 7/15\n",
      " - 7s - loss: 0.0146 - acc: 0.9968 - val_loss: 0.0645 - val_acc: 0.9795\n",
      "Epoch 8/15\n",
      " - 6s - loss: 0.0114 - acc: 0.9976 - val_loss: 0.0640 - val_acc: 0.9805\n",
      "Epoch 9/15\n",
      " - 7s - loss: 0.0075 - acc: 0.9987 - val_loss: 0.0599 - val_acc: 0.9813\n",
      "Epoch 10/15\n",
      " - 6s - loss: 0.0063 - acc: 0.9990 - val_loss: 0.0616 - val_acc: 0.9816\n",
      "Epoch 11/15\n",
      " - 6s - loss: 0.0044 - acc: 0.9995 - val_loss: 0.0590 - val_acc: 0.9836\n",
      "Epoch 12/15\n",
      " - 6s - loss: 0.0039 - acc: 0.9994 - val_loss: 0.0683 - val_acc: 0.9805\n",
      "Epoch 13/15\n",
      " - 6s - loss: 0.0100 - acc: 0.9971 - val_loss: 0.0688 - val_acc: 0.9821\n",
      "Epoch 14/15\n",
      " - 6s - loss: 0.0058 - acc: 0.9986 - val_loss: 0.0665 - val_acc: 0.9827\n",
      "Epoch 15/15\n",
      " - 6s - loss: 0.0028 - acc: 0.9996 - val_loss: 0.0639 - val_acc: 0.9826\n"
     ]
    },
    {
     "data": {
      "text/plain": [
       "<keras.callbacks.History at 0x18012165b00>"
      ]
     },
     "execution_count": 57,
     "metadata": {},
     "output_type": "execute_result"
    }
   ],
   "source": [
    "model.fit(X_train,y_train,validation_data=(X_test,y_test),epochs=15,batch_size=200,verbose=2)"
   ]
  },
  {
   "cell_type": "code",
   "execution_count": 58,
   "metadata": {},
   "outputs": [
    {
     "name": "stdout",
     "output_type": "stream",
     "text": [
      "Baseline Error: 1.74%\n"
     ]
    }
   ],
   "source": [
    "scores = model.evaluate(X_test,y_test,verbose=0)\n",
    "print(\"Baseline Error: %.2f%%\" % (100-scores[1]*100))"
   ]
  },
  {
   "cell_type": "code",
   "execution_count": null,
   "metadata": {},
   "outputs": [],
   "source": []
  }
 ],
 "metadata": {
  "kernelspec": {
   "display_name": "Python 3 (ipykernel)",
   "language": "python",
   "name": "python3"
  },
  "language_info": {
   "codemirror_mode": {
    "name": "ipython",
    "version": 3
   },
   "file_extension": ".py",
   "mimetype": "text/x-python",
   "name": "python",
   "nbconvert_exporter": "python",
   "pygments_lexer": "ipython3",
   "version": "3.11.7"
  }
 },
 "nbformat": 4,
 "nbformat_minor": 4
}
